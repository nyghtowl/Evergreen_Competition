{
 "metadata": {
  "name": ""
 },
 "nbformat": 3,
 "nbformat_minor": 0,
 "worksheets": [
  {
   "cells": [
    {
     "cell_type": "code",
     "collapsed": false,
     "input": [
      "#Ike's initial setup\n",
      "from sklearn.naive_bayes import MultinomialNB\n",
      "from sklearn.pipeline import Pipeline\n",
      "from sklearn.feature_extraction.text import TfidfVectorizer, CountVectorizer\n",
      "from  sklearn.linear_model import  LogisticRegression, LinearRegression\n",
      "import pdb\n",
      "from sklearn.cross_validation import cross_val_score, KFold\n",
      "from scipy.stats import sem\n",
      "from sklearn.svm import SVC\n",
      "import pandas as p\n",
      "\n",
      "\n",
      "print \"loading data..\"\n",
      "traindata = list(np.array(p.read_table('./data/train.tsv'))[:,2])\n",
      "traindata_label = np.array(p.read_table('./data/train.tsv'))[:,-1]\n",
      "\n",
      "def evaluate_cross_validation(classifier, train, labels, K):\n",
      "    \n",
      "    cv = KFold(len(labels), K, shuffle=True, random_state=0)\n",
      "    scores =  cross_val_score(classifier, train, labels, cv=cv, scoring='roc_auc')\n",
      "    print scores\n",
      "    print (\"Mean Cross Validation score: {0:.3f} (+/-{1:.3f})\").format(np.mean(scores), sem(scores))\n",
      "\n"
     ],
     "language": "python",
     "metadata": {},
     "outputs": [
      {
       "output_type": "stream",
       "stream": "stdout",
       "text": [
        "loading data..\n"
       ]
      }
     ],
     "prompt_number": 8
    },
    {
     "cell_type": "code",
     "collapsed": false,
     "input": [
      "clf_1 = Pipeline([\n",
      "    ('vect', TfidfVectorizer(min_df=3,  max_features=None, strip_accents='unicode', stop_words='english',  \n",
      "             analyzer='word',token_pattern=r'\\w{1,}',ngram_range=(1, 2), use_idf=1,smooth_idf=1,sublinear_tf=1,      \n",
      "    )),\n",
      "    ('clf', LogisticRegression(penalty='l2', dual=True, tol=0.0001, C=1, fit_intercept=True, intercept_scaling=1.0, \n",
      "                             class_weight=None, random_state=None,    \n",
      "    )),\n",
      "])\n",
      "clf_2 = Pipeline([\n",
      "    ('vect', TfidfVectorizer(min_df=3,  max_features=None, strip_accents='unicode',  stop_words='english',\n",
      "             analyzer='word',token_pattern=r'\\w{1,}',ngram_range=(1, 2), use_idf=1,smooth_idf=1,sublinear_tf=1,      \n",
      "    )),\n",
      "    ('clf', LogisticRegression()),    \n",
      "])\n",
      "\n",
      "clf_3 = Pipeline([\n",
      "    ('vect', TfidfVectorizer(min_df=3,  max_features=None, strip_accents='unicode', stop_words='english',\n",
      "             analyzer='word',token_pattern=r'\\w{1,}',ngram_range=(1, 2), use_idf=1,smooth_idf=1,sublinear_tf=1,      \n",
      "    )),\n",
      "    ('svc', SVC(probability=True)),\n",
      "])\n"
     ],
     "language": "python",
     "metadata": {},
     "outputs": [],
     "prompt_number": 7
    },
    {
     "cell_type": "code",
     "collapsed": false,
     "input": [
      "clfs = [clf_1, clf_2,clf_3]\n",
      "for clf in clfs:\n",
      "  print 'running model' \n",
      "  evaluate_cross_validation(clf, traindata, traindata_label, 5)"
     ],
     "language": "python",
     "metadata": {},
     "outputs": [
      {
       "output_type": "stream",
       "stream": "stdout",
       "text": [
        "running model\n",
        "[ 0.86375188  0.87234642  0.8794874   0.88525695  0.87832515]"
       ]
      },
      {
       "output_type": "stream",
       "stream": "stdout",
       "text": [
        "\n",
        "Mean Cross Validation score: 0.876 (+/-0.004)\n",
        "running model\n",
        "[ 0.86375188  0.87234459  0.87948923  0.88525695  0.87832515]"
       ]
      },
      {
       "output_type": "stream",
       "stream": "stdout",
       "text": [
        "\n",
        "Mean Cross Validation score: 0.876 (+/-0.004)\n",
        "running model\n",
        "[ 0.8183099   0.82915737  0.8504898   0.84569253  0.84369571]"
       ]
      },
      {
       "output_type": "stream",
       "stream": "stdout",
       "text": [
        "\n",
        "Mean Cross Validation score: 0.837 (+/-0.006)\n"
       ]
      }
     ],
     "prompt_number": 9
    },
    {
     "cell_type": "code",
     "collapsed": false,
     "input": [
      "clf_1 = Pipeline([\n",
      "    ('vect', TfidfVectorizer(min_df=3,  max_features=None, strip_accents='unicode', stop_words='english',  \n",
      "             analyzer='word',token_pattern=r'\\w{1,}',ngram_range=(1, 2), use_idf=1,smooth_idf=1,sublinear_tf=1,      \n",
      "    )),\n",
      "    ('clf', LogisticRegression(penalty='l2', dual=True, tol=0.0001, C=1, fit_intercept=True, intercept_scaling=1.0, \n",
      "                             class_weight=None, random_state=None,    \n",
      "    )),\n",
      "])"
     ],
     "language": "python",
     "metadata": {},
     "outputs": []
    },
    {
     "cell_type": "code",
     "collapsed": false,
     "input": [
      "clf_4 = Pipeline([\n",
      "    ('vect', TfidfVectorizer(min_df=3,  max_features=None, strip_accents='unicode', stop_words='english',  \n",
      "             analyzer='word',token_pattern=r'\\w{1,}',ngram_range=(1, 2), use_idf=1,smooth_idf=1,sublinear_tf=1,      \n",
      "    )),\n",
      "    ('svc', SVC(C=1.5,probability=True, kernel='poly', degree=2)),\n",
      "])\n"
     ],
     "language": "python",
     "metadata": {},
     "outputs": [],
     "prompt_number": 14
    },
    {
     "cell_type": "code",
     "collapsed": false,
     "input": [
      "evaluate_cross_validation(clf_4, traindata, traindata_label, 5)"
     ],
     "language": "python",
     "metadata": {},
     "outputs": [
      {
       "output_type": "stream",
       "stream": "stdout",
       "text": [
        "[ 0.83467788  0.15078574  0.86859153  0.5         0.86379929]\n",
        "Mean Cross Validation score: 0.644 (+/-0.141)\n"
       ]
      }
     ],
     "prompt_number": 15
    },
    {
     "cell_type": "code",
     "collapsed": false,
     "input": [
      "clf_5 = Pipeline([\n",
      "    ('vect', TfidfVectorizer(min_df=3,  max_features=None, strip_accents='unicode', stop_words='english',  \n",
      "             analyzer='word',token_pattern=r'\\w{1,}',ngram_range=(1, 2), use_idf=1,smooth_idf=1,sublinear_tf=1,      \n",
      "    )),\n",
      "    ('svc', SVC(C=1.5,probability=True, kernel='poly', degree=2.5)),\n",
      "])"
     ],
     "language": "python",
     "metadata": {},
     "outputs": [],
     "prompt_number": 17
    },
    {
     "cell_type": "code",
     "collapsed": false,
     "input": [
      "# evaluate_cross_validation(clf_5, traindata, traindata_label, 5)"
     ],
     "language": "python",
     "metadata": {},
     "outputs": [],
     "prompt_number": 21
    },
    {
     "cell_type": "code",
     "collapsed": false,
     "input": [
      "clf_6 = Pipeline([\n",
      "    ('vect', TfidfVectorizer(min_df=3,  max_features=None, strip_accents='unicode', stop_words='english',  \n",
      "             analyzer='word',token_pattern=r'\\w{1,}',ngram_range=(1, 2), use_idf=1,smooth_idf=1,sublinear_tf=1,      \n",
      "    )),\n",
      "    ('clf', LogisticRegression(penalty='l2', dual=True, tol=0.0001, C=1.2, fit_intercept=True, intercept_scaling=1.0, \n",
      "                             class_weight=None, random_state=None,    \n",
      "    )),\n",
      "])"
     ],
     "language": "python",
     "metadata": {},
     "outputs": [],
     "prompt_number": 19
    },
    {
     "cell_type": "code",
     "collapsed": false,
     "input": [
      "evaluate_cross_validation(clf_6, traindata, traindata_label, 5)"
     ],
     "language": "python",
     "metadata": {},
     "outputs": [
      {
       "output_type": "stream",
       "stream": "stdout",
       "text": [
        "[ 0.86500793  0.87067067  0.87825373  0.88548195  0.8800515 ]\n",
        "Mean Cross Validation score: 0.876 (+/-0.004)\n"
       ]
      }
     ],
     "prompt_number": 20
    },
    {
     "cell_type": "code",
     "collapsed": false,
     "input": [
      "running model\n",
      "[ 0.86375188  0.87234642  0.8794874   0.88525695  0.87832515]\n",
      "Mean Cross Validation score: 0.876 (+/-0.004)\n",
      "running model\n",
      "[ 0.86375188  0.87234459  0.87948923  0.88525695  0.87832515]\n",
      "Mean Cross Validation score: 0.876 (+/-0.004)\n",
      "running model\n",
      "[ 0.8183099   0.82915737  0.8504898   0.84569253  0.84369571]\n",
      "Mean Cross Validation score: 0.837 (+/-0.006)"
     ],
     "language": "python",
     "metadata": {},
     "outputs": []
    },
    {
     "cell_type": "code",
     "collapsed": false,
     "input": [
      "clf_7 = Pipeline([\n",
      "    ('vect', TfidfVectorizer(min_df=3,  max_features=None, strip_accents='unicode', stop_words='english',  \n",
      "             analyzer='word',token_pattern=r'\\w{1,}',ngram_range=(1, 2), use_idf=1,smooth_idf=1,sublinear_tf=1,      \n",
      "    )),\n",
      "    ('clf', LogisticRegression(penalty='l2', dual=True, tol=0.0001, C=.9, fit_intercept=True, intercept_scaling=1.0, \n",
      "                             class_weight=None, random_state=None,    \n",
      "    )),\n",
      "])"
     ],
     "language": "python",
     "metadata": {},
     "outputs": [],
     "prompt_number": 22
    },
    {
     "cell_type": "code",
     "collapsed": false,
     "input": [
      "evaluate_cross_validation(clf_7, traindata, traindata_label, 5)"
     ],
     "language": "python",
     "metadata": {},
     "outputs": [
      {
       "output_type": "stream",
       "stream": "stdout",
       "text": [
        "[ 0.86516905  0.87086276  0.87914278  0.88585877  0.88002955]\n",
        "Mean Cross Validation score: 0.876 (+/-0.004)\n"
       ]
      }
     ],
     "prompt_number": 23
    },
    {
     "cell_type": "code",
     "collapsed": false,
     "input": [
      "clf_8 = Pipeline([\n",
      "    ('vect', TfidfVectorizer(min_df=3,  max_features=None, strip_accents='unicode', stop_words='english',  \n",
      "             analyzer='word',token_pattern=r'\\w{1,}',ngram_range=(1, 2), use_idf=1,smooth_idf=1,sublinear_tf=1,      \n",
      "    )),\n",
      "    ('clf', LogisticRegression(penalty='l2', dual=True, tol=0.0001, C=.7, fit_intercept=True, intercept_scaling=1.0, \n",
      "                             class_weight=None, random_state=None,    \n",
      "    )),\n",
      "])"
     ],
     "language": "python",
     "metadata": {},
     "outputs": [],
     "prompt_number": 25
    },
    {
     "cell_type": "code",
     "collapsed": false,
     "input": [
      "evaluate_cross_validation(clf_8, traindata, traindata_label, 5)"
     ],
     "language": "python",
     "metadata": {},
     "outputs": [
      {
       "output_type": "stream",
       "stream": "stdout",
       "text": [
        "[ 0.86496398  0.8708591   0.87940491  0.88599413  0.8799308 ]\n",
        "Mean Cross Validation score: 0.876 (+/-0.004)\n"
       ]
      }
     ],
     "prompt_number": 26
    },
    {
     "cell_type": "code",
     "collapsed": false,
     "input": [],
     "language": "python",
     "metadata": {},
     "outputs": []
    }
   ],
   "metadata": {}
  }
 ]
}