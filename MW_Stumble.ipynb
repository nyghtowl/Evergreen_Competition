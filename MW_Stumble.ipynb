{
 "metadata": {
  "name": ""
 },
 "nbformat": 3,
 "nbformat_minor": 0,
 "worksheets": [
  {
   "cells": [
    {
     "cell_type": "code",
     "collapsed": false,
     "input": [
      "%load stumbleupon_mw"
     ],
     "language": "python",
     "metadata": {},
     "outputs": [],
     "prompt_number": 4
    },
    {
     "cell_type": "code",
     "collapsed": false,
     "input": [
      "from sklearn import metrics,preprocessing,cross_validation\n",
      "from sklearn.feature_extraction.text import TfidfVectorizer\n",
      "import sklearn.linear_model as lm\n",
      "import numpy as np\n",
      "import pandas as p\n",
      "\n",
      "def load_data(filename, col):\n",
      "  print \"loading data..\"\n",
      "\n",
      "  return np.array(p.read_table(filename))[:,col]\n",
      "\n",
      "def vectorize(vectorizer):\n",
      "    '''\n",
      "    Converts values between 0-1 - normalizes\n",
      "    '''\n",
      "    return verctorizer(min_df=3,  max_features=None, strip_accents='unicode',  \n",
      "        analyzer='word',token_pattern=r'\\w{1,}',ngram_range=(1, 2), use_idf=1,smooth_idf=1,sublinear_tf=1)"
     ],
     "language": "python",
     "metadata": {},
     "outputs": [],
     "prompt_number": 9
    },
    {
     "cell_type": "code",
     "collapsed": false,
     "input": [
      "def main():\n",
      "    traindata = load_data('train.tsv', 2) \n",
      "#     testdata = load_data('./test.tsv', 2)\n",
      "#     y = load_data('../data/train.tsv', -1)\n",
      "#     tfv = vectorize(TfidVectorizer)\n",
      "    print traindata"
     ],
     "language": "python",
     "metadata": {},
     "outputs": [],
     "prompt_number": 12
    },
    {
     "cell_type": "code",
     "collapsed": false,
     "input": [],
     "language": "python",
     "metadata": {},
     "outputs": []
    }
   ],
   "metadata": {}
  }
 ]
}